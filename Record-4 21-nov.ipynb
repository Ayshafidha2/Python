{
 "cells": [
  {
   "cell_type": "code",
   "execution_count": 4,
   "id": "b26b5ece",
   "metadata": {},
   "outputs": [
    {
     "name": "stdout",
     "output_type": "stream",
     "text": [
      "Enter a string:hello i am here\n",
      "Occurence of word : [{'hello': 1, 'i': 1, 'am': 1, 'here': 1}]\n"
     ]
    }
   ],
   "source": [
    "#occurence of each word\n",
    "string=input(\"Enter a string:\").split()\n",
    "print(\"Occurence of word :\",[{word:string.count(word) for word in string}])"
   ]
  },
  {
   "cell_type": "code",
   "execution_count": 6,
   "id": "6b998225",
   "metadata": {},
   "outputs": [
    {
     "name": "stdout",
     "output_type": "stream",
     "text": [
      "Enter a list of number(seperated by space)234 34 78 345\n",
      "After storing: ['over', 34, 78, 'over']\n"
     ]
    }
   ],
   "source": [
    "#prompt the user for a list of integers,values<100\n",
    "numbers=input(\"Enter a list of number(seperated by space)\").split()\n",
    "print(\"After storing:\",[int(x) if int(x)<100 else \"over\" for x in numbers])"
   ]
  },
  {
   "cell_type": "code",
   "execution_count": 9,
   "id": "f200fcae",
   "metadata": {},
   "outputs": [
    {
     "name": "stdout",
     "output_type": "stream",
     "text": [
      "Enter a names(seperated by space)anu,aisha,kina,linu\n",
      "occurence of 'a' in names : 4\n"
     ]
    }
   ],
   "source": [
    "#list of names\n",
    "names=input(\"Enter a names(seperated by space)\").split()\n",
    "occurence=sum([name.count('a') for name in names])\n",
    "print(\"occurence of 'a' in names :\",occurence)"
   ]
  },
  {
   "cell_type": "code",
   "execution_count": 25,
   "id": "dd066121",
   "metadata": {},
   "outputs": [
    {
     "name": "stdout",
     "output_type": "stream",
     "text": [
      "Enter a number:1 2 3 5\n",
      "Enter a number:3 4 5 7\n",
      " The Lists are of the same length: True\n",
      "The Lists sum to the same value: False\n",
      "Any common values between lists: True\n",
      "common value: {3, 5}\n"
     ]
    }
   ],
   "source": [
    "#Enter 2 lists of integers. Check \n",
    "#(a) Whether list are of same length \n",
    "#(b) whether list sums to same value \n",
    "#(c) whether any value occur in both.\n",
    "list1=list(map(int,input(\"Enter a number:\").split()))\n",
    "list2=list(map(int,input(\"Enter a number:\").split()))\n",
    "same_length=len(list1)==len(list2)\n",
    "print(\"The Lists are of the same length:\",same_length)\n",
    "\n",
    "same_sum=sum(list1)==sum(list2)\n",
    "print(\"The Lists sum to the same value:\",same_sum)\n",
    "\n",
    "common=set(list1).intersection(list2)\n",
    "common_value=len(common)>0\n",
    "print(\"Any common values between lists:\",common_value)\n",
    "if common_value:\n",
    "    print(\"common value:\",common)"
   ]
  },
  {
   "cell_type": "code",
   "execution_count": 32,
   "id": "924d345c",
   "metadata": {},
   "outputs": [
    {
     "name": "stdout",
     "output_type": "stream",
     "text": [
      "Enter a list of integers (space-separated): 1 2 3 4 -8\n",
      "Positive numbers: [1, 2, 3, 4]\n",
      "Enter the number:5\n",
      "Squares of first numbers from 1 to 5 : [1, 4, 9, 16, 25]\n",
      "Enter a word: hello welcome back\n",
      "Vowels in the given word ['e', 'o', 'e', 'o', 'e', 'a']\n",
      "Ordinal value of character: [104, 101, 108, 108, 111, 32, 119, 101, 108, 99, 111, 109, 101, 32, 98, 97, 99, 107]\n"
     ]
    }
   ],
   "source": [
    "#write a python program List comprehensions: \n",
    "           #(a) Generate positive list of numbers from a given list of integers \n",
    "           #(b) Square of N numbers \n",
    "           #(c) Form a list of vowels selected from a given word \n",
    "           #(d) List ordinal value of each element of a word (Hint: use ord() to get ordinal values)\n",
    "given_list = list(map(int, input(\"Enter a list of integers (space-separated): \").split()))\n",
    "positive_list = [num for num in given_list if num > 0]\n",
    "print(f\"Positive numbers: {positive_list}\")\n",
    "\n",
    "n=int(input(\"Enter the number:\"))\n",
    "sqr=[num**2 for num in range(1, n+1)]\n",
    "print(f\"Squares of first numbers from 1 to\",n,\":\",sqr)\n",
    "\n",
    "word =input(\"Enter a word: \")\n",
    "vowels =[char for char in word if char.lower() in \"aeiou\"]\n",
    "print(\"Vowels in the given word\",vowels)\n",
    "ordial=[ord(char) for char in word]\n",
    "print(\"Ordinal value of character:\",ordial)\n"
   ]
  },
  {
   "cell_type": "code",
   "execution_count": null,
   "id": "67dbd9fd",
   "metadata": {},
   "outputs": [],
   "source": []
  },
  {
   "cell_type": "code",
   "execution_count": null,
   "id": "b78f7f0e",
   "metadata": {},
   "outputs": [],
   "source": []
  }
 ],
 "metadata": {
  "kernelspec": {
   "display_name": "Python 3 (ipykernel)",
   "language": "python",
   "name": "python3"
  },
  "language_info": {
   "codemirror_mode": {
    "name": "ipython",
    "version": 3
   },
   "file_extension": ".py",
   "mimetype": "text/x-python",
   "name": "python",
   "nbconvert_exporter": "python",
   "pygments_lexer": "ipython3",
   "version": "3.11.5"
  }
 },
 "nbformat": 4,
 "nbformat_minor": 5
}
