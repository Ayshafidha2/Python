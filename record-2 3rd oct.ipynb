
{
 "cells": [
  {
   "cell_type": "code",
   "execution_count": 10,
   "id": "133e9e3f",
   "metadata": {},
   "outputs": [
    {
     "name": "stdout",
     "output_type": "stream",
     "text": [
      "Enter an number:5\n",
      "5+55+555=615\n"
     ]
    }
   ],
   "source": [
    "n=(input(\"Enter an number:\"))\n",
    "r=int(n)+int(n*2)+int(n*3)\n",
    "print(f\"{n}+{n*2}+{n*3}={r}\")\n",
    "      "
   ]
  },
  {
   "cell_type": "code",
   "execution_count": 11,
   "id": "235b4930",
   "metadata": {},
   "outputs": [
    {
     "name": "stdout",
     "output_type": "stream",
     "text": [
      "Enter the radius:5\n",
      "Area of the circle with radius5.0=78.54\n"
     ]
    }
   ],
   "source": [
    "#AREA OF A CIRCLE\n",
    "import math\n",
    "r=float(input(\"Enter the radius:\"))\n",
    "area=math.pi*(r*r)\n",
    "print(\"Area of the circle with radius{}={:.2f}\".format(r,area))"
   ]
  },
  {
   "cell_type": "code",
   "execution_count": 12,
   "id": "c6aebe5f",
   "metadata": {},
   "outputs": [
    {
     "name": "stdout",
     "output_type": "stream",
     "text": [
      "Enter a number:110\n",
      "Enter a number:20\n",
      "Enter a number:234\n",
      "The maximum of three numbers= 234\n"
     ]
    }
   ],
   "source": [
    "#maximum of three numbers\n",
    "a=int(input(\"Enter a number:\"))\n",
    "b=int(input(\"Enter a number:\"))\n",
    "c=int(input(\"Enter a number:\"))\n",
    "maximum=max(a,b,c)\n",
    "print(\"The maximum of three numbers=\",maximum)"
   ]
  },
  {
   "cell_type": "code",
   "execution_count": null,
   "id": "99a38be0",
   "metadata": {},
   "outputs": [],
   "source": []
  }
 ],
 "metadata": {
  "kernelspec": {
   "display_name": "Python 3 (ipykernel)",
   "language": "python",
   "name": "python3"
  },
  "language_info": {
   "codemirror_mode": {
    "name": "ipython",
    "version": 3
   },
   "file_extension": ".py",
   "mimetype": "text/x-python",
   "name": "python",
   "nbconvert_exporter": "python",
   "pygments_lexer": "ipython3",
   "version": "3.11.5"
  }
 },
 "nbformat": 4,
 "nbformat_minor": 5
}
