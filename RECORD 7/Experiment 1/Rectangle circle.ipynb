{
 "cells": [
  {
   "cell_type": "code",
   "execution_count": null,
   "id": "d2dcdee1",
   "metadata": {},
   "outputs": [],
   "source": [
    "#Create modules Rectangle, Circle. Include methods to find area and perimeter of respective figures in each module. \n",
    "import rectangle\n",
    "import circle\n",
    "\n",
    "while(1):\n",
    "    \n",
    "    print(\"1.Rectangle\\n2. Circle\\n3. Exit\")\n",
    "    ch=int(input(\"Enter your choice: \"))\n",
    "    if ch==1:\n",
    "        l=int(input(\"Enter length\"))\n",
    "        b = int(input(\"Enter breadth\"))\n",
    "        rectangle.rectarea(l,b)\n",
    "        rectangle.rectperi(l,b)\n",
    "    elif ch==2:\n",
    "        r = int(input(\"Enter radius:\"))\n",
    "        circle.circlearea(r)\n",
    "        circle.circleperi(r)\n",
    "    else:\n",
    "        print(\"Exiting...\")\n",
    "        break\n"
   ]
  }
 ],
 "metadata": {
  "kernelspec": {
   "display_name": "Python 3 (ipykernel)",
   "language": "python",
   "name": "python3"
  },
  "language_info": {
   "codemirror_mode": {
    "name": "ipython",
    "version": 3
   },
   "file_extension": ".py",
   "mimetype": "text/x-python",
   "name": "python",
   "nbconvert_exporter": "python",
   "pygments_lexer": "ipython3",
   "version": "3.11.5"
  }
 },
 "nbformat": 4,
 "nbformat_minor": 5
}
