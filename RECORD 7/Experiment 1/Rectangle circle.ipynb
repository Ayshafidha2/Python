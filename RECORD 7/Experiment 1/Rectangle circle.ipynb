{
 "cells": [
  {
   "cell_type": "code",
   "execution_count": 1,
   "id": "d2dcdee1",
   "metadata": {},
   "outputs": [
    {
     "name": "stdout",
     "output_type": "stream",
     "text": [
      "1.Rectangle\n",
      "2. Circle\n",
      "3. Exit\n",
      "Enter your choice: 1\n",
      "Enter length2\n",
      "Enter breadth3\n",
      "Area of Rectangle:  6\n",
      "Perimeter of rectangle:  10\n",
      "1.Rectangle\n",
      "2. Circle\n",
      "3. Exit\n",
      "Enter your choice: 2\n",
      "Enter radius:3\n",
      "Area of Circle:  28.259999999999998\n",
      "Perimeter of circle:  18.84\n",
      "1.Rectangle\n",
      "2. Circle\n",
      "3. Exit\n",
      "Enter your choice: 3\n",
      "Exiting...\n"
     ]
    }
   ],
   "source": [
    "#Create modules Rectangle, Circle. Include methods to find area and perimeter of respective figures in each module. \n",
    "import rectangle\n",
    "import circle\n",
    "\n",
    "while(1):\n",
    "    \n",
    "    print(\"1.Rectangle\\n2. Circle\\n3. Exit\")\n",
    "    ch=int(input(\"Enter your choice: \"))\n",
    "    if ch==1:\n",
    "        l=int(input(\"Enter length\"))\n",
    "        b = int(input(\"Enter breadth\"))\n",
    "        rectangle.rectarea(l,b)\n",
    "        rectangle.rectperi(l,b)\n",
    "    elif ch==2:\n",
    "        r = int(input(\"Enter radius:\"))\n",
    "        circle.circlearea(r)\n",
    "        circle.circleperi(r)\n",
    "    else:\n",
    "        print(\"Exiting...\")\n",
    "        break\n"
   ]
  },
  {
   "cell_type": "code",
   "execution_count": null,
   "id": "ac9f56df",
   "metadata": {},
   "outputs": [],
   "source": []
  }
 ],
 "metadata": {
  "kernelspec": {
   "display_name": "Python 3 (ipykernel)",
   "language": "python",
   "name": "python3"
  },
  "language_info": {
   "codemirror_mode": {
    "name": "ipython",
    "version": 3
   },
   "file_extension": ".py",
   "mimetype": "text/x-python",
   "name": "python",
   "nbconvert_exporter": "python",
   "pygments_lexer": "ipython3",
   "version": "3.11.5"
  }
 },
 "nbformat": 4,
 "nbformat_minor": 5
}
