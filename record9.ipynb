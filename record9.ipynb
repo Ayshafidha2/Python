
{
 "cells": [
  {
   "cell_type": "markdown",
   "id": "102c2ae8-5186-4cfa-a6b7-53fb3a567c01",
   "metadata": {},
   "source": [
    "**1. Write a Python program to read a file line by line and store it into a list.**"
   ]
  },
  {
   "cell_type": "code",
   "execution_count": 13,
   "id": "0829ffcd-49f7-4b28-ae7c-14cd17502006",
   "metadata": {},
   "outputs": [
    {
     "name": "stdin",
     "output_type": "stream",
     "text": [
      "enter filename:  f.txt\n"
     ]
    },
    {
     "name": "stdout",
     "output_type": "stream",
     "text": [
      "The file stored as list:  ['hello', 'world', 'python', '!!!!!']\n"
     ]
    }
   ],
   "source": [
    "r=input(\"enter filename: \")\n",
    "r=open(r,\"r\")\n",
    "lines = r.readlines()\n",
    "lines = [line.strip() for line in lines]\n",
    "print(\"The file stored as list: \",lines)\n",
    "r.close()"
   ]
  },
  {
   "cell_type": "markdown",
   "id": "f19a66ab-ad15-4977-a609-e92caa7ea5ef",
   "metadata": {},
   "source": [
    "**2. Python program to copy odd lines of one file to other**"
   ]
  },
  {
   "cell_type": "code",
   "execution_count": 21,
   "id": "95b53544-7d1d-4be4-a23e-466c8c4eb8b5",
   "metadata": {},
   "outputs": [
    {
     "name": "stdin",
     "output_type": "stream",
     "text": [
      "enter filename1:  f.txt\n",
      "enter filename2:  new\n"
     ]
    },
    {
     "name": "stdout",
     "output_type": "stream",
     "text": [
      "copied odd lines of file1 to file2\n"
     ]
    }
   ],
   "source": [
    "f1=open(input(\"enter filename1: \"),\"r\")\n",
    "f2=open(input(\"enter filename2: \"),\"w\")\n",
    "ln=1\n",
    "f=f1.readlines\n",
    "line_num = 1\n",
    "for line in f1:\n",
    "    if line_num % 2 != 0:\n",
    "        f2.write(line)\n",
    "    line_num += 1\n",
    "print(\"copied odd lines of file1 to file2\")\n",
    "f1.close()\n",
    "f2.close()"
   ]
  },
  {
   "cell_type": "markdown",
   "id": "68084f28-059d-4c22-8719-1559fa2e0bb3",
   "metadata": {},
   "source": [
    "**3. Write a Python program to read each row from a given csv file and print a list of strings.**"
   ]
  },
  {
   "cell_type": "code",
   "execution_count": 12,
   "id": "032e0e39-0caf-4571-b3fa-34356d542e67",
   "metadata": {},
   "outputs": [
    {
     "name": "stdout",
     "output_type": "stream",
     "text": [
      "each row py.csv file\n",
      "\n",
      "['name', 'age', 'city']\n",
      "['Alice', '30', 'New York']\n",
      "['Bob', '25', 'London']\n",
      "['Charlie', '35', 'Paris']\n"
     ]
    }
   ],
   "source": [
    "import csv\n",
    "file=open('py.csv', 'r') \n",
    "row=csv.reader(file)\n",
    "\n",
    "print(\"each row of py.csv file\\n\")\n",
    "for r in row:\n",
    "    print(r)"
   ]
  },
  {
   "cell_type": "markdown",
   "id": "37b26666-c423-4382-9b2e-c647a6c6c3c2",
   "metadata": {},
   "source": [
    "**4. Write a Python program to read specific columns of a given CSV file and print the content of the columns.**"
   ]
  },
  {
   "cell_type": "code",
   "execution_count": 11,
   "id": "a66f08cf-b71f-45b2-a6b9-b387918b5e7d",
   "metadata": {},
   "outputs": [
    {
     "name": "stdout",
     "output_type": "stream",
     "text": [
      "1st and 2nd columns of py.csv file\n",
      "\n",
      "|name       | city      |\n",
      "|Alice      | New York  |\n",
      "|Bob        | London    |\n",
      "|Charlie    | Paris     |\n"
     ]
    }
   ],
   "source": [
    "import csv\n",
    "\n",
    "file = open('py.csv', 'r')\n",
    "rows = csv.reader(file)\n",
    "print(\"1st and 2nd columns of py.csv file\\n\")\n",
    "for row in rows:\n",
    "  print(f\"|{row[0]:<10} | {row[2]:<10}|\") "
   ]
  },
  {
   "cell_type": "markdown",
   "id": "95bf0c1f-d466-4b25-928b-6d8204fd0ea7",
   "metadata": {},
   "source": [
    "**5. Write a Python program to write a Python dictionary to a csv file. After writing the CSV file\n",
    "read the CSV file and display the content.**"
   ]
  },
  {
   "cell_type": "code",
   "execution_count": 7,
   "id": "c10bc06c-ea71-48d7-9f4a-f4471355cef0",
   "metadata": {},
   "outputs": [
    {
     "name": "stdin",
     "output_type": "stream",
     "text": [
      "Enter names:  Alice Alice Bob\n",
      "Enter cities:  london paris nyc\n"
     ]
    },
    {
     "name": "stdout",
     "output_type": "stream",
     "text": [
      "\n",
      "The content of the file: \n",
      "['Name', 'City']\n",
      "['Alice', 'paris']\n",
      "['Bob', 'nyc']\n"
     ]
    }
   ],
   "source": [
    "import csv\n",
    "\n",
    "data = dict(zip(input(\"Enter names: \").split(), input(\"Enter cities: \").split()))\n",
    "\n",
    "with open('output.csv', 'w', newline='') as f:\n",
    "    w = csv.writer(f)\n",
    "    w.writerow([\"Name\", \"City\"])\n",
    "    w.writerows(data.items())\n",
    "\n",
    "with open('output.csv', 'r') as f:\n",
    "    print(\"\\nThe content of the file: \",*csv.reader(f), sep='\\n')"
   ]
  }
 ],
 "metadata": {
  "kernelspec": {
   "display_name": "Python 3 (ipykernel)",
   "language": "python",
   "name": "python3"
  },
  "language_info": {
   "codemirror_mode": {
    "name": "ipython",
    "version": 3
   },
   "file_extension": ".py",
   "mimetype": "text/x-python",
   "name": "python",
   "nbconvert_exporter": "python",
   "pygments_lexer": "ipython3",
   "version": "3.12.4"
  }
 },
 "nbformat": 4,
 "nbformat_minor": 5
}
