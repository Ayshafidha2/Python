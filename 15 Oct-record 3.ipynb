{
 "cells": [
  {
   "cell_type": "code",
   "execution_count": 4,
   "id": "e4c27728",
   "metadata": {},
   "outputs": [
    {
     "name": "stdout",
     "output_type": "stream",
     "text": [
      "enter a string:PYTHON\n",
      "string is: NYTHOP\n"
     ]
    }
   ],
   "source": [
    "#1.Exchange String\n",
    "s=str(input(\"enter a string:\"))\n",
    "a=s[0]\n",
    "c=s[-1]\n",
    "b=c+s[1:-1]+a\n",
    "print(\"string is:\",b)"
   ]
  },
  {
   "cell_type": "code",
   "execution_count": 5,
   "id": "b36474b4",
   "metadata": {
    "scrolled": true
   },
   "outputs": [
    {
     "name": "stdout",
     "output_type": "stream",
     "text": [
      "Enter the first string:aysha\n",
      "Enter the second string:fidha\n",
      "result string: aysha fidha\n",
      "new string is: fisha aydha\n"
     ]
    }
   ],
   "source": [
    "#2. A STRING FROM TWO STRING AND SWAP FIRST TWO CHARACTER\n",
    "a1=str(input(\"Enter the first string:\"))\n",
    "a2=str(input(\"Enter the second string:\"))\n",
    "print(\"result string:\",a1,a2)\n",
    "x=a1[0:2]\n",
    "z=a2[0:2]\n",
    "a3=z+a1[2:]\n",
    "a4=x+a2[2:]\n",
    "print(\"new string is:\",a3,a4)"
   ]
  },
  {
   "cell_type": "code",
   "execution_count": 13,
   "id": "1ec37a96",
   "metadata": {},
   "outputs": [
    {
     "name": "stdout",
     "output_type": "stream",
     "text": [
      "Enter the string:onion\n",
      "new string: oni$n\n"
     ]
    }
   ],
   "source": [
    "#3.REPLACE THE LETTER WITH S\n",
    "s=str(input(\"Enter the string:\"))\n",
    "a=s[0]\n",
    "b=s[1:]\n",
    "st=b.replace(a,\"$\")\n",
    "ns=s[0] + st\n",
    "print(\"new string:\",ns)\n"
   ]
  },
  {
   "cell_type": "code",
   "execution_count": 1,
   "id": "12cdf15f",
   "metadata": {},
   "outputs": [
    {
     "name": "stdout",
     "output_type": "stream",
     "text": [
      "Enter the Name of Color : red,yellow,blue\n",
      "The First Color :  red\n",
      "The Last Color :  blue\n"
     ]
    }
   ],
   "source": [
    "#4.PRINT FIRST AND LAst\n",
    "s=str(input(\"Enter the Name of Color : \"))\n",
    "p=s.split(\",\")\n",
    "print(\"The First Color : \",p[0])\n",
    "print(\"The Last Color : \",p[-1])"
   ]
  },
  {
   "cell_type": "code",
   "execution_count": 2,
   "id": "ad14fbc7",
   "metadata": {},
   "outputs": [
    {
     "name": "stdout",
     "output_type": "stream",
     "text": [
      "Enter the File Name :image.html\n",
      "The Extension file is: html\n"
     ]
    }
   ],
   "source": [
    "#5.PRINT THE EXTENSION OF FILE\n",
    "s=str(input(\"Enter the File Name :\"))\n",
    "p=s.split(\".\")\n",
    "print(\"The Extension file is:\",p[-1])"
   ]
  },
  {
   "cell_type": "code",
   "execution_count": 8,
   "id": "ca74543e",
   "metadata": {},
   "outputs": [
    {
     "name": "stdout",
     "output_type": "stream",
     "text": [
      "Enter the numbers:1,2,3,4,5,6,7\n",
      "The tuple = ('1', '2', '3', '4', '5', '6', '7')\n",
      "Third one in tuple =3\tLast third in tuple =5\n"
     ]
    }
   ],
   "source": [
    "#6.TUPLE OF 3RD ELEMENT\n",
    "mt=tuple(input(\"Enter the numbers:\").split(\",\"))\n",
    "print(\"The tuple =\",mt)\n",
    "print(\"Third one in tuple =\"+mt[2]+\"\\tLast third in tuple =\"+mt[-3])\n"
   ]
  },
  {
   "cell_type": "code",
   "execution_count": 2,
   "id": "cb421898",
   "metadata": {},
   "outputs": [
    {
     "name": "stdout",
     "output_type": "stream",
     "text": [
      "Enter colors for set f : blue,black\n",
      "Enter colors for set s : yellow,black,white\n",
      "Difference of {'blue', 'black'} and {'yellow', 'black', 'white'}:{'blue'}\n"
     ]
    }
   ],
   "source": [
    "#7.COLORSET1-COLORSET2\n",
    "f=set(input(\"Enter colors for set f : \").split(\",\"))\n",
    "s=set(input(\"Enter colors for set s : \").split(\",\"))\n",
    "difference_f_s = f-s\n",
    "print(f'Difference of {f} and {s}:{difference_f_s}')"
   ]
  },
  {
   "cell_type": "code",
   "execution_count": 3,
   "id": "5ec4e38c",
   "metadata": {},
   "outputs": [
    {
     "name": "stdout",
     "output_type": "stream",
     "text": [
      "Enter 3 Student name seperated by comma:anu,aisha,minu\n",
      "Students sorted in ascending order: {0: 'anu', 1: 'aisha', 2: 'minu'}\n",
      "Students sorted in decending order: {2: 'minu', 1: 'aisha', 0: 'anu'}\n"
     ]
    }
   ],
   "source": [
    "#8.Sort dictionary in Ascending and Descending order\n",
    "student_names=input(\"Enter 3 Student name seperated by comma:\").split(',')\n",
    "students = dict(enumerate(student_names))\n",
    "print(\"Students sorted in ascending order:\",dict(sorted(students.items())))\n",
    "print(\"Students sorted in decending order:\",dict(sorted(students.items(),reverse=True)))\n"
   ]
  },
  {
   "cell_type": "code",
   "execution_count": 3,
   "id": "eac6b22d",
   "metadata": {},
   "outputs": [
    {
     "name": "stdout",
     "output_type": "stream",
     "text": [
      "Enter the name of student 1: aisha\n",
      "Enter the name of student 2: fidha\n",
      "Enter the name of student 3: anu\n",
      "dic1 {'student1': 'aisha', 'student2': 'fidha', 'student3': 'anu'}\n",
      "Enter the name of student 4: nouri\n",
      "Enter the name of student 5: amee\n",
      "dic2 {'student4': 'nouri', 'student5': 'amee'}\n",
      "\n",
      "Merged Dictionary:\n",
      "{'student1': 'aisha', 'student2': 'fidha', 'student3': 'anu', 'student4': 'nouri', 'student5': 'amee'}\n"
     ]
    }
   ],
   "source": [
    "#9.merge two Dictionaries\n",
    "dic1={\n",
    "    'student1':input(\"Enter the name of student 1: \"),\n",
    "    'student2':input(\"Enter the name of student 2: \"),\n",
    "    'student3':input(\"Enter the name of student 3: \"),\n",
    "    }\n",
    "print(\"dic1\",dic1)\n",
    "dic2={\n",
    "    'student4':input(\"Enter the name of student 4: \"),\n",
    "    'student5':input(\"Enter the name of student 5: \"),\n",
    "    \n",
    "}\n",
    "print(\"dic2\",dic2)\n",
    "merged_dict = {**dic1,**dic2}\n",
    "print(\"\\nMerged Dictionary:\")\n",
    "print(merged_dict)"
   ]
  },
  {
   "cell_type": "code",
   "execution_count": 4,
   "id": "70475f5d",
   "metadata": {},
   "outputs": [
    {
     "name": "stdout",
     "output_type": "stream",
     "text": [
      "The even number from 0-25= [0, 2, 4, 6, 8, 10, 12, 14, 16, 18, 20, 22, 24]\n",
      "sum of even number 0-25: 156\n"
     ]
    }
   ],
   "source": [
    "#10.25 even numbers\n",
    "num=range(0,25,2)\n",
    "print(\"The even number from 0-25=\",list(num))\n",
    "print(\"sum of even number 0-25:\",sum(num))"
   ]
  },
  {
   "cell_type": "code",
   "execution_count": null,
   "id": "42887541",
   "metadata": {},
   "outputs": [],
   "source": []
  }
 ],
 "metadata": {
  "kernelspec": {
   "display_name": "Python 3 (ipykernel)",
   "language": "python",
   "name": "python3"
  },
  "language_info": {
   "codemirror_mode": {
    "name": "ipython",
    "version": 3
   },
   "file_extension": ".py",
   "mimetype": "text/x-python",
   "name": "python",
   "nbconvert_exporter": "python",
   "pygments_lexer": "ipython3",
   "version": "3.11.5"
  }
 },
 "nbformat": 4,
 "nbformat_minor": 5
}
