
{
 "cells": [
  {
   "cell_type": "code",
   "execution_count": 29,
   "id": "e72c2574",
   "metadata": {},
   "outputs": [
    {
     "name": "stdout",
     "output_type": "stream",
     "text": [
      "Enter the final year:2056\n",
      "Leap years from  2024 to 2056 : 2024 2028 2032 2036 2040 2044 2048 2052 2056\n"
     ]
    }
   ],
   "source": [
    "#write a python program Display future leap years from current year to a final year entered by user\n",
    "def leap_year(start,end):\n",
    "    leap_year_list=[str(year)for year in range(start,end+1) \n",
    "if(year % 4 == 0 and year % 100 != 0) or (year % 400 == 0)]\n",
    "    print(\"Leap years from \",start,\"to\",end,\":\",\" \".join(leap_year_list))\n",
    "start=2024\n",
    "end=int(input(\"Enter the final year:\"))\n",
    "leap_year(start,end)"
   ]
  },
  {
   "cell_type": "code",
   "execution_count": 34,
   "id": "b1af8a5d",
   "metadata": {},
   "outputs": [
    {
     "name": "stdout",
     "output_type": "stream",
     "text": [
      "Enter a number to find its factorial: 5\n",
      "factorial of  5 is 120\n"
     ]
    }
   ],
   "source": [
    "#Program to find the factorial of a number.\n",
    "def factorial(n):\n",
    "    fact=1\n",
    "    for i in range(1,n+1):\n",
    "        fact*=i\n",
    "    return fact\n",
    "num = int(input(\"Enter a number to find its factorial: \"))\n",
    "print(\"factorial of \",num,\"is\",factorial(num))"
   ]
  },
  {
   "cell_type": "code",
   "execution_count": 37,
   "id": "ab62bb4e",
   "metadata": {},
   "outputs": [
    {
     "name": "stdout",
     "output_type": "stream",
     "text": [
      "Enter a number of terms for Fibonacci series: 7\n",
      "0 1 1 2 3 5 8 "
     ]
    }
   ],
   "source": [
    "#Generate Fibonacci series of N terms\n",
    "def fibonacci(n):\n",
    "    a,b=0,1\n",
    "    for _ in range(n):\n",
    "        print(a,end=\" \")\n",
    "        a,b=b,a+b\n",
    "num = int(input(\"Enter a number of terms for Fibonacci series: \"))\n",
    "fibonacci(num)"
   ]
  },
  {
   "cell_type": "code",
   "execution_count": 38,
   "id": "38e4203e",
   "metadata": {},
   "outputs": [
    {
     "name": "stdout",
     "output_type": "stream",
     "text": [
      "Enter a list of words separated by spaces: hello welcome back\n",
      "The length of the longest word is: 7\n"
     ]
    }
   ],
   "source": [
    "#Accept a list of words and return length of longest word\n",
    "def longest_word_length(words):\n",
    "    if not words:\n",
    "        return \"The list is empty. Please provide a valid list of words.\"\n",
    "    longest = max(words, key=len)\n",
    "    return len(longest)\n",
    "try:\n",
    "    words = input(\"Enter a list of words separated by spaces: \").split()\n",
    "    if not words:\n",
    "        print(\"No words entered. Please try again.\")\n",
    "    else:\n",
    "        print(f\"The length of the longest word is: {longest_word_length(words)}\")\n",
    "except Exception as e:\n",
    "    print(f\"An error occurred: {e}\")\n"
   ]
  },
  {
   "cell_type": "code",
   "execution_count": 39,
   "id": "9921b36e",
   "metadata": {},
   "outputs": [
    {
     "name": "stdout",
     "output_type": "stream",
     "text": [
      "*   \n",
      "*   *   \n",
      "*   *   *   \n",
      "*   *   *   *   \n",
      "*   *   *   *   *   \n",
      "*   *   *   *   \n",
      "*   *   *   \n",
      "*   *   \n",
      "*   \n"
     ]
    }
   ],
   "source": [
    "#pattern using nested loop\n",
    "def print_pattern():\n",
    "    n = 5  \n",
    "for i in range(1, n + 1):\n",
    "        print(\"*   \" * i)\n",
    "\n",
    "for i in range(n - 1, 0, -1):\n",
    "        print(\"*   \" * i)\n",
    "print_pattern()\n"
   ]
  },
  {
   "cell_type": "code",
   "execution_count": 43,
   "id": "37baf840",
   "metadata": {},
   "outputs": [
    {
     "name": "stdout",
     "output_type": "stream",
     "text": [
      "Enter a number to find its factors: 5\n",
      "The factors of 5 are: [1, 5]\n"
     ]
    }
   ],
   "source": [
    "#Generate all factors of a number.\n",
    "def find_factors(num):\n",
    "    if num <= 0:\n",
    "        return \"Please enter a positive integer.\"\n",
    "    factors = []\n",
    "    for i in range(1, num + 1):\n",
    "        if num % i == 0:\n",
    "            factors.append(i)\n",
    "    return factors\n",
    "number = int(input(\"Enter a number to find its factors: \"))\n",
    "print(f\"The factors of {number} are: {find_factors(number)}\")\n",
    "\n"
   ]
  },
  {
   "cell_type": "code",
   "execution_count": 8,
   "id": "578c6331",
   "metadata": {},
   "outputs": [
    {
     "name": "stdout",
     "output_type": "stream",
     "text": [
      "Enter the number of steps (N): 4\n",
      " 1\n",
      " 2 4\n",
      " 3 6 9\n",
      " 4 8 12 16\n"
     ]
    }
   ],
   "source": [
    "#Display the given pyramid with step number accepted from user.\n",
    "def generate_row(a):\n",
    "    return [a * i for i in range(1, a + 1)]\n",
    "\n",
    "def display_pyramid(a):\n",
    "    for a in range(1, a + 1):\n",
    "        row = generate_row(a)\n",
    "        print(' ' * (a - a) * 2, ' '.join(map(str, row)))\n",
    "def main():\n",
    "    a = int(input(\"Enter the number of steps (N): \"))\n",
    "    display_pyramid(a)\n",
    "main()\n"
   ]
  },
  {
   "cell_type": "code",
   "execution_count": 5,
   "id": "ed88962f",
   "metadata": {},
   "outputs": [
    {
     "name": "stdout",
     "output_type": "stream",
     "text": [
      "Area of square with side 5: 25\n",
      "Area of rectangle with length 4 and breadth 6: 24\n",
      "Area of triangle with base 10 and height 5: 25.0\n"
     ]
    }
   ],
   "source": [
    "# Write lambda functions to find area of square, rectangle and triangle \n",
    "def area_square(side):\n",
    "    return side ** 2\n",
    "\n",
    "# Function to calculate the area of a rectangle\n",
    "def area_rectangle(length, breadth):\n",
    "    return length * breadth\n",
    "\n",
    "# Function to calculate the area of a triangle\n",
    "def area_triangle(base, height):\n",
    "    return 0.5 * base * height\n",
    "print(\"Area of square with side 5:\", area_square(5))\n",
    "print(\"Area of rectangle with length 4 and breadth 6:\", area_rectangle(4, 6))\n",
    "print(\"Area of triangle with base 10 and height 5:\", area_triangle(10, 5))\n"
   ]
  },
  {
   "cell_type": "code",
   "execution_count": null,
   "id": "0e114431",
   "metadata": {},
   "outputs": [],
   "source": []
  }
 ],
 "metadata": {
  "kernelspec": {
   "display_name": "Python 3 (ipykernel)",
   "language": "python",
   "name": "python3"
  },
  "language_info": {
   "codemirror_mode": {
    "name": "ipython",
    "version": 3
   },
   "file_extension": ".py",
   "mimetype": "text/x-python",
   "name": "python",
   "nbconvert_exporter": "python",
   "pygments_lexer": "ipython3",
   "version": "3.11.5"
  }
 },
 "nbformat": 4,
 "nbformat_minor": 5
}
