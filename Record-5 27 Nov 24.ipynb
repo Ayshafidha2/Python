

{
 "cells": [
  {
   "cell_type": "code",
   "execution_count": 2,
   "id": "05f064d5",
   "metadata": {},
   "outputs": [
    {
     "name": "stdout",
     "output_type": "stream",
     "text": [
      "Enter the first number: 12\n",
      "Enter the second number: 34\n",
      "The GCD is: 2\n"
     ]
    }
   ],
   "source": [
    "#Find gcd of 2 numbers\n",
    "import math\n",
    "num1 = int(input(\"Enter the first number: \"))\n",
    "num2 = int(input(\"Enter the second number: \"))\n",
    "gcd = math.gcd(num1, num2)\n",
    "print(\"The GCD is:\",gcd)\n"
   ]
  },
  {
   "cell_type": "code",
   "execution_count": 4,
   "id": "b10a1bee",
   "metadata": {},
   "outputs": [
    {
     "name": "stdout",
     "output_type": "stream",
     "text": [
      "Enter a list of integers (space-separated): 1 2 3 4 6\n",
      "List after removing even numbers: [1, 3]\n"
     ]
    }
   ],
   "source": [
    "#From a list of integers, create a list removing even numbers\n",
    "numbers=list(map(int, input(\"Enter a list of integers (space-separated): \").split()))\n",
    "odd_numbers=[num for num in numbers if num % 2 != 0]\n",
    "print(\"List after removing even numbers:\",odd_numbers)\n"
   ]
  },
  {
   "cell_type": "code",
   "execution_count": 5,
   "id": "35141008",
   "metadata": {},
   "outputs": [
    {
     "name": "stdout",
     "output_type": "stream",
     "text": [
      "Enter a list of integers (space-separated): 1 2 3 5 7 9\n",
      "The sum of all items in the list is: 27\n"
     ]
    }
   ],
   "source": [
    "#Find the sum of all items in a list\n",
    "numbers = list(map(int, input(\"Enter a list of integers (space-separated): \").split()))\n",
    "total_sum = sum(numbers)\n",
    "print(\"The sum of all items in the list is:\",total_sum)\n",
    "\n"
   ]
  },
  {
   "cell_type": "code",
   "execution_count": 13,
   "id": "8460f97f",
   "metadata": {},
   "outputs": [
    {
     "name": "stdout",
     "output_type": "stream",
     "text": [
      "Enter the starting index : 1000\n",
      "Enter the ending index : 9999\n",
      "Four-digit numbers even perfect squares numbers = [4624, 6084, 6400, 8464]\n"
     ]
    }
   ],
   "source": [
    "#Generate a list of four digit numbers in a given range with all their digits even and \n",
    "#the number is a perfect square.\n",
    "import math\n",
    "start = int(input(\"Enter the starting index : \"))\n",
    "end = int(input(\"Enter the ending index : \"))\n",
    "start=max(1000,start)\n",
    "end=min(9999,end)\n",
    "result = []\n",
    "for i in range(start,end+1):\n",
    "    if int(math.sqrt(i)) ** 2 == i and all(int(digit) % 2 == 0 for digit in str(i)):\n",
    "     result.append(i)\n",
    "print(\"Four-digit numbers even perfect squares numbers =\",result)\n"
   ]
  },
  {
   "cell_type": "code",
   "execution_count": 4,
   "id": "98e590e1",
   "metadata": {},
   "outputs": [
    {
     "name": "stdout",
     "output_type": "stream",
     "text": [
      "Enter a string:hello\n",
      "[l] occurs: 2 times\n",
      "[o] occurs: 1 times\n",
      "[e] occurs: 1 times\n",
      "[h] occurs: 1 times\n"
     ]
    }
   ],
   "source": [
    "#Count the number of characters (character frequency) in a string.\n",
    "word = input(\"Enter a string:\")\n",
    "count = []\n",
    "for ch in set(word):\n",
    "    print(f\"[{ch}] occurs: {word.count(ch)} times\")"
   ]
  },
  {
   "cell_type": "code",
   "execution_count": 8,
   "id": "f45f80b6",
   "metadata": {},
   "outputs": [
    {
     "name": "stdout",
     "output_type": "stream",
     "text": [
      "Enter a string :playing\n",
      "Word : playingly\n"
     ]
    }
   ],
   "source": [
    "# Add ‘ing’ at the end of a given string. If it already ends with ‘ing’, then add ‘ly’\n",
    "word=input(\"Enter a string :\").lower()\n",
    "if word.endswith('ing'):\n",
    "   print(\"Word :\",word + 'ly')\n",
    "else:\n",
    "  print(\"Word:\",word + 'ing')\n"
   ]
  },
  {
   "cell_type": "code",
   "execution_count": null,
   "id": "e9c8d4cb",
   "metadata": {},
   "outputs": [],
   "source": []
  }
 ],
 "metadata": {
  "kernelspec": {
   "display_name": "Python 3 (ipykernel)",
   "language": "python",
   "name": "python3"
  },
  "language_info": {
   "codemirror_mode": {
    "name": "ipython",
    "version": 3
   },
   "file_extension": ".py",
   "mimetype": "text/x-python",
   "name": "python",
   "nbconvert_exporter": "python",
   "pygments_lexer": "ipython3",
   "version": "3.11.5"
  }
 },
 "nbformat": 4,
 "nbformat_minor": 5
}
