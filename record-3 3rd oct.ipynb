{
 "cells": [
  {
   "cell_type": "code",
   "execution_count": 2,
   "id": "3c25ca31",
   "metadata": {},
   "outputs": [
    {
     "name": "stdout",
     "output_type": "stream",
     "text": [
      "ENTER THE TEMPERATURE IN CELSIUS:24\n",
      "The temperature in Fahrenheit: 75.2\n"
     ]
    }
   ],
   "source": [
    "#celsius to fahrenheit#celsius to fahrenheit\n",
    "T=int(input(\"ENTER THE TEMPERATURE IN CELSIUS:\"))\n",
    "F=T*9/5+32\n",
    "print(\"The temperature in Fahrenheit:\",F)\n"
   ]
  },
  {
   "cell_type": "code",
   "execution_count": 3,
   "id": "7246e0e1",
   "metadata": {},
   "outputs": [
    {
     "name": "stdout",
     "output_type": "stream",
     "text": [
      "Enter the kilmeter:1\n",
      "1.0is equal to 0.62137\n"
     ]
    }
   ],
   "source": [
    "#KILMETER TO MILES\n",
    "a=float(input(\"Enter the kilmeter:\"))\n",
    "b=a*(0.62137)\n",
    "print(\"{}is equal to {}\".format(a,b))"
   ]
  },
  {
   "cell_type": "code",
   "execution_count": 6,
   "id": "1f8bddce",
   "metadata": {},
   "outputs": [
    {
     "name": "stdout",
     "output_type": "stream",
     "text": [
      "Enter The Price Of Product A:20\n",
      "Enter The Price Of Product B:30\n",
      "Enter The Price Of Product C:50\n",
      "Final price(after 15% discount) : 85.0\n",
      "average price: 33.333333333333336\n",
      "Product A is more Expensive than the final price: False\n",
      "Product B is more Expensive than the final price: False\n",
      "Product C is more Expensive than the final price: False\n",
      "Final price is in range between 60 to 200:True\n"
     ]
    }
   ],
   "source": [
    "#THREE PRODUCTS\n",
    "A=float(input(\"Enter The Price Of Product A:\"))\n",
    "B=float(input(\"Enter The Price Of Product B:\"))\n",
    "C=float(input(\"Enter The Price Of Product C:\"))\n",
    "total_price=A+B+C;\n",
    "discount=total_price*0.15\n",
    "final_price=total_price-discount\n",
    "print(f\"Final price(after 15% discount) : {final_price}\")\n",
    "avg_price=total_price/3;\n",
    "print(f\"average price: {avg_price}\")\n",
    "print(f\"Product A is more Expensive than the final price: {A>final_price}\")\n",
    "print(f\"Product B is more Expensive than the final price: {B>final_price}\")\n",
    "print(f\"Product C is more Expensive than the final price: {C>final_price}\")\n",
    "print(f\"Final price is in range between 60 to 200:{final_price>60 and final_price<200}\")"
   ]
  },
  {
   "cell_type": "code",
   "execution_count": null,
   "id": "8c3d5c56",
   "metadata": {},
   "outputs": [],
   "source": []
  }
 ],
 "metadata": {
  "kernelspec": {
   "display_name": "Python 3 (ipykernel)",
   "language": "python",
   "name": "python3"
  },
  "language_info": {
   "codemirror_mode": {
    "name": "ipython",
    "version": 3
   },
   "file_extension": ".py",
   "mimetype": "text/x-python",
   "name": "python",
   "nbconvert_exporter": "python",
   "pygments_lexer": "ipython3",
   "version": "3.11.5"
  }
 },
 "nbformat": 4,
 "nbformat_minor": 5
}
