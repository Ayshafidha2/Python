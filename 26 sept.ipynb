{
 "cells": [
  {
   "cell_type": "code",
   "execution_count": 2,
   "id": "3e2b4387",
   "metadata": {},
   "outputs": [
    {
     "name": "stdout",
     "output_type": "stream",
     "text": [
      "Enter the side of the square:2\n",
      "area= 4\n"
     ]
    }
   ],
   "source": [
    "a=int(input(\"Enter the side of the square:)\"))\n",
    "area=a*a\n",
    "print(\"area=\",area)"
   ]
  },
  {
   "cell_type": "code",
   "execution_count": 3,
   "id": "80d26298",
   "metadata": {},
   "outputs": [
    {
     "name": "stdout",
     "output_type": "stream",
     "text": [
      "Enter the base of the triangle:2\n",
      "Enter the height of the triangle:4\n",
      "area= 4.0\n"
     ]
    }
   ],
   "source": [
    "a=int(input(\"Enter the base of the triangle:\"))\n",
    "b=int(input(\"Enter the height of the triangle:\"))\n",
    "area=(a*b)/2\n",
    "print(\"area=\",area)"
   ]
  },
  {
   "cell_type": "code",
   "execution_count": 9,
   "id": "254a3106",
   "metadata": {},
   "outputs": [
    {
     "name": "stdout",
     "output_type": "stream",
     "text": [
      "Enter your name:aysha\n",
      "Hello aysha !\n"
     ]
    }
   ],
   "source": [
    "name=input(\"Enter your name:\")\n",
    "print(\"Hello\",name,\"!\")"
   ]
  },
  {
   "cell_type": "code",
   "execution_count": 10,
   "id": "dc50ed61",
   "metadata": {},
   "outputs": [
    {
     "name": "stdout",
     "output_type": "stream",
     "text": [
      "Enter an integer5\n",
      "The previous number is 4\n",
      "The next number is 6\n"
     ]
    }
   ],
   "source": [
    "a=int(input(\"Enter an integer\"))\n",
    "previous_number=a-1\n",
    "next_number=a+1\n",
    "print(\"The previous number is\",previous_number)\n",
    "print(\"The next number is\",next_number)"
   ]
  },
  {
   "cell_type": "code",
   "execution_count": 15,
   "id": "9423ca52",
   "metadata": {},
   "outputs": [
    {
     "name": "stdout",
     "output_type": "stream",
     "text": [
      "Enter the amount:1000\n",
      "Enter the rate of interest:5\n",
      "Enter the time period in years:1.5\n",
      "The result is 75.0\n"
     ]
    }
   ],
   "source": [
    "P=int(input(\"Enter the amount:\"))\n",
    "r=int(input(\"Enter the rate of interest:\"))\n",
    "t=float(input(\"Enter the time period in years:\"))\n",
    "SI=(P*r*t)/100\n",
    "print(\"The result is\",SI)"
   ]
  },
  {
   "cell_type": "code",
   "execution_count": null,
   "id": "64bfd297",
   "metadata": {},
   "outputs": [],
   "source": []
  }
 ],
 "metadata": {
  "kernelspec": {
   "display_name": "Python 3 (ipykernel)",
   "language": "python",
   "name": "python3"
  },
  "language_info": {
   "codemirror_mode": {
    "name": "ipython",
    "version": 3
   },
   "file_extension": ".py",
   "mimetype": "text/x-python",
   "name": "python",
   "nbconvert_exporter": "python",
   "pygments_lexer": "ipython3",
   "version": "3.11.5"
  }
 },
 "nbformat": 4,
 "nbformat_minor": 5
}
